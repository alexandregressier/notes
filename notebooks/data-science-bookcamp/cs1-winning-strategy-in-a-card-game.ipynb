{
  "metadata" : {
    "config" : {
      "dependencies" : {
        
      },
      "exclusions" : [
      ],
      "repositories" : [
      ],
      "sparkConfig" : {
        
      }
    }
  },
  "nbformat" : 4,
  "nbformat_minor" : 0,
  "cells" : [
    {
      "cell_type" : "markdown",
      "execution_count" : 0,
      "metadata" : {
        "language" : "text"
      },
      "language" : "text",
      "source" : [
        "# Case Study 1: Finding the winning strategy in a card game\n",
        "\n",
        "> Even the most unpredictable systems still show some predictable behaviors.\n",
        "\n",
        "*Probability theory* is the branch of mathematics studying those behavior\n",
        "\n",
        "### Analyzing a fair coin\n",
        "\n",
        "A *sample space* is the set of all the possible outcomes that an action (*e.g.,* flipping a coin) could produce\n",
        "\n",
        "\n"
      ],
      "outputs" : [
      ]
    },
    {
      "cell_type" : "code",
      "execution_count" : 1,
      "metadata" : {
        "cell.metadata.exec_info" : {
          "startTs" : 1572188428238,
          "endTs" : 1572188428294
        },
        "language" : "python"
      },
      "language" : "python",
      "source" : [
        "sampleSpace = {'Heads', 'Tails'} # A `Set` literal"
      ],
      "outputs" : [
      ]
    },
    {
      "cell_type" : "markdown",
      "execution_count" : 2,
      "metadata" : {
        "language" : "text"
      },
      "language" : "text",
      "source" : [
        "The frequency of $1/2$ is formally defined as the *probability* of an outcomeAll outcomes within `sampleSpace` share an identical probability, which is equal to 1 / len(sampleSpace)\n",
        "\n",
        "**Computing the probability of heads:**\n",
        "\n"
      ],
      "outputs" : [
      ]
    },
    {
      "cell_type" : "code",
      "execution_count" : 3,
      "metadata" : {
        "cell.metadata.exec_info" : {
          "startTs" : 1572188428295,
          "endTs" : 1572188428336
        },
        "language" : "python"
      },
      "language" : "python",
      "source" : [
        "probabilityHeads = 1 / len(sampleSpace)\n",
        "print(f'Probability of choosing heads is {probabilityHeads}')"
      ],
      "outputs" : [
        {
          "name" : "stdout",
          "text" : [
            "Probability of choosing heads is 0.5\n"
          ],
          "output_type" : "stream"
        }
      ]
    },
    {
      "cell_type" : "markdown",
      "execution_count" : 4,
      "metadata" : {
        "language" : "text"
      },
      "language" : "text",
      "source" : [
        "The coin is assumed to be unbiased\"We have assigned probabilities to our 2 measurable outcomes\"\n",
        "\n",
        "An *event* is the subset of those elements within `sampleSpace` that satisfy some *event condition* (*i.e.*, an event is a set of outcomes)\n",
        "\n",
        "An *event condition* is a simple boolean function whose input is a single sample_space element and whose out is true if the element satisfies the condition constraints\n",
        "\n",
        "**Defining event conditions:**\n",
        "\n"
      ],
      "outputs" : [
      ]
    },
    {
      "cell_type" : "code",
      "execution_count" : 5,
      "metadata" : {
        "cell.metadata.exec_info" : {
          "startTs" : 1572188428337,
          "endTs" : 1572188428472
        },
        "language" : "python"
      },
      "language" : "python",
      "source" : [
        "def isHeadsOrTails(outcome): return outcome in {'Heads', 'Tails'}\n",
        "def isNeither(outcome): return not isHeadsOrTails(outcome)\n",
        "def isHeads(outcome): return outcome == 'Heads'\n",
        "def isTails(outcome): return outcome == 'Tails'"
      ],
      "outputs" : [
      ]
    },
    {
      "cell_type" : "markdown",
      "execution_count" : 6,
      "metadata" : {
        "language" : "text"
      },
      "language" : "text",
      "source" : [
        "**Defining an event detection function:**"
      ],
      "outputs" : [
      ]
    },
    {
      "cell_type" : "code",
      "execution_count" : 7,
      "metadata" : {
        "cell.metadata.exec_info" : {
          "startTs" : 1572188428473,
          "endTs" : 1572188428674
        },
        "language" : "python"
      },
      "language" : "python",
      "source" : [
        "def getEvent(eventCondition, sampleSpace):\n",
        "    return set([outcome for outcome in sampleSpace if eventCondition(outcome)])\n",
        "\n",
        "eventConditions = [isHeadsOrTails, isHeads, isTails, isNeither]\n",
        "\n",
        "for eventCondition in eventConditions:\n",
        "    print(f'Event condition: {eventCondition.__name__}')\n",
        "    event = getEvent(eventCondition, sampleSpace)\n",
        "    print(f'Event: {event}')"
      ],
      "outputs" : [
        {
          "name" : "stdout",
          "text" : [
            "Event condition: isHeadsOrTails\n",
            "Event: {'Tails', 'Heads'}\n",
            "Event condition: isHeads\n",
            "Event: {'Heads'}\n",
            "Event condition: isTails\n",
            "Event: {'Tails'}\n",
            "Event condition: isNeither\n",
            "Event: set()\n"
          ],
          "output_type" : "stream"
        }
      ]
    },
    {
      "cell_type" : "markdown",
      "execution_count" : 8,
      "metadata" : {
        "language" : "text"
      },
      "language" : "text",
      "source" : [
        "What is the probability of each event occurring?The probability of a single-element outcome for a fair coin is `1 / len(sampleSpace)` (1 b/c a single element is selected from the `sampleSpace`)\n",
        "\n",
        "The probability of a multiple-element outcome for a fair coin is `len(event) / len(sampleSpace)`, but only if all outcomes are to occur with equal likelihood\n",
        "\n",
        "**Compute the 4 event probabilities:**\n",
        "\n"
      ],
      "outputs" : [
      ]
    },
    {
      "cell_type" : "code",
      "execution_count" : 9,
      "metadata" : {
        "cell.metadata.exec_info" : {
          "startTs" : 1572188428675,
          "endTs" : 1572188428845
        },
        "language" : "python"
      },
      "language" : "python",
      "source" : [
        "def computeProbability(eventCondition, genericSampleSpace):\n",
        "    event = getEvent(eventCondition, genericSampleSpace)\n",
        "    return len(event) / len(genericSampleSpace)\n",
        "\n",
        "for eventCondition in eventConditions:\n",
        "    prob = computeProbability(eventCondition, sampleSpace)\n",
        "    name = eventCondition.__name__\n",
        "    print(f\"Probability of event arising from '{name}' is {prob}\")"
      ],
      "outputs" : [
        {
          "name" : "stdout",
          "text" : [
            "Probability of event arising from 'isHeadsOrTails' is 1.0\n",
            "Probability of event arising from 'isHeads' is 0.5\n",
            "Probability of event arising from 'isTails' is 0.5\n",
            "Probability of event arising from 'isNeither' is 0.0\n"
          ],
          "output_type" : "stream"
        }
      ]
    },
    {
      "cell_type" : "markdown",
      "execution_count" : 10,
      "metadata" : {
        "language" : "text"
      },
      "language" : "text",
      "source" : [
        "### Analyzing a biased coin\n",
        "\n",
        "The coin is 4 times more likely to land on heads relative to tails\n",
        "\n",
        "**Representing a weighted sample space:**\n",
        "\n"
      ],
      "outputs" : [
      ]
    },
    {
      "cell_type" : "code",
      "execution_count" : 11,
      "metadata" : {
        "cell.metadata.exec_info" : {
          "startTs" : 1572188428845,
          "endTs" : 1572188428890
        },
        "language" : "python"
      },
      "language" : "python",
      "source" : [
        "weightedSampleSpace = {'Heads': 4, 'Tails': 1}"
      ],
      "outputs" : [
      ]
    },
    {
      "cell_type" : "code",
      "execution_count" : 12,
      "metadata" : {
        "cell.metadata.exec_info" : {
          "startTs" : 1572188428891,
          "endTs" : 1572188428932
        },
        "language" : "python"
      },
      "language" : "python",
      "source" : [
        "sampleSpaceSize = sum(weightedSampleSpace.values())\n",
        "assert sampleSpaceSize == 5"
      ],
      "outputs" : [
      ]
    },
    {
      "cell_type" : "markdown",
      "execution_count" : 13,
      "metadata" : {
        "language" : "text"
      },
      "language" : "text",
      "source" : [
        "Summing over the weight mapped to the outcomes corresponding to an event will yield this event's size:"
      ],
      "outputs" : [
      ]
    },
    {
      "cell_type" : "code",
      "execution_count" : 14,
      "metadata" : {
        "cell.metadata.exec_info" : {
          "startTs" : 1572188428933,
          "endTs" : 1572188429002
        },
        "language" : "python"
      },
      "language" : "python",
      "source" : [
        "event = getEvent(isHeadsOrTails, weightedSampleSpace)\n",
        "eventSize = sum(weightedSampleSpace[outcome] for outcome in event)\n",
        "assert eventSize == 5"
      ],
      "outputs" : [
      ]
    },
    {
      "cell_type" : "code",
      "execution_count" : 15,
      "metadata" : {
        "cell.metadata.exec_info" : {
          "startTs" : 1572188429003,
          "endTs" : 1572188429073
        },
        "language" : "python"
      },
      "language" : "python",
      "source" : [
        "def computeEventProbability(eventCondition, genericSampleSpace):\n",
        "    event = getEvent(eventCondition, genericSampleSpace)\n",
        "    if type(genericSampleSpace) is type(set()):\n",
        "        return len(event) / len(genericSampleSpace)\n",
        "    elif type(genericSampleSpace) is type(dict()):\n",
        "        eventSize = sum(genericSampleSpace[outcome] for outcome in event)\n",
        "        return eventSize / sum(genericSampleSpace.values())"
      ],
      "outputs" : [
      ]
    },
    {
      "cell_type" : "markdown",
      "execution_count" : 16,
      "metadata" : {
        "language" : "text"
      },
      "language" : "text",
      "source" : [
        "Reusing the previous code with the new function:"
      ],
      "outputs" : [
      ]
    },
    {
      "cell_type" : "code",
      "execution_count" : 17,
      "metadata" : {
        "cell.metadata.exec_info" : {
          "startTs" : 1572188429075,
          "endTs" : 1572188429251
        },
        "language" : "python"
      },
      "language" : "python",
      "source" : [
        "for eventCondition in eventConditions:\n",
        "    prob = computeEventProbability(eventCondition, weightedSampleSpace)\n",
        "    name = eventCondition.__name__\n",
        "    print(f\"Probability of event arising from '{name}' is {prob}\")"
      ],
      "outputs" : [
        {
          "name" : "stdout",
          "text" : [
            "Probability of event arising from 'isHeadsOrTails' is 1.0\n",
            "Probability of event arising from 'isHeads' is 0.8\n",
            "Probability of event arising from 'isTails' is 0.2\n",
            "Probability of event arising from 'isNeither' is 0.0\n"
          ],
          "output_type" : "stream"
        }
      ]
    },
    {
      "cell_type" : "markdown",
      "execution_count" : 18,
      "metadata" : {
        "language" : "text"
      },
      "language" : "text",
      "source" : [
        "### Analyzing a family of 4 children\n",
        "\n",
        "What is the probability that exactly 2 of the children are boys?\n",
        "\n"
      ],
      "outputs" : [
      ]
    },
    {
      "cell_type" : "code",
      "execution_count" : 19,
      "metadata" : {
        "cell.metadata.exec_info" : {
          "startTs" : 1572188429251,
          "endTs" : 1572188429349
        },
        "language" : "python"
      },
      "language" : "python",
      "source" : [
        "possibleChildren = ['Boy', 'Girl']\n",
        "sampleSpace = set()\n",
        "for child1 in possibleChildren:\n",
        "    for child2 in possibleChildren:\n",
        "        for child3 in possibleChildren:\n",
        "            for child4 in possibleChildren:\n",
        "                outcome = (child1, child2, child3, child4)\n",
        "                sampleSpace.add(outcome)"
      ],
      "outputs" : [
      ]
    },
    {
      "cell_type" : "markdown",
      "execution_count" : 20,
      "metadata" : {
        "language" : "text"
      },
      "language" : "text",
      "source" : [
        "Using Python's built-in `itertools.product`:"
      ],
      "outputs" : [
      ]
    },
    {
      "cell_type" : "code",
      "execution_count" : 21,
      "metadata" : {
        "cell.metadata.exec_info" : {
          "startTs" : 1572188429350,
          "endTs" : 1572188429460
        },
        "language" : "python"
      },
      "language" : "python",
      "source" : [
        "from itertools import product\n",
        "allCombinations = product(*(4 * [possibleChildren]))\n",
        "# Equivalent: `product(possibleChildren, possibleChildren, possibleChildren, possibleChildren)`\n",
        "assert set(allCombinations) == sampleSpace"
      ],
      "outputs" : [
      ]
    },
    {
      "cell_type" : "markdown",
      "execution_count" : 22,
      "metadata" : {
        "cell.metadata.exec_info" : {
          "startTs" : 1572186521147,
          "endTs" : 1572186521180
        },
        "language" : "text"
      },
      "language" : "text",
      "source" : [
        "The `*` operator unpacks multiple arguments stored within a listThese arguments are then passed into a specified function\n",
        "\n",
        "Even more efficient:\n",
        "\n"
      ],
      "outputs" : [
      ]
    },
    {
      "cell_type" : "code",
      "execution_count" : 23,
      "metadata" : {
        "cell.metadata.exec_info" : {
          "startTs" : 1572188429461,
          "endTs" : 1572188429521
        },
        "language" : "python"
      },
      "language" : "python",
      "source" : [
        "sampleSpaceEfficient = set(product(possibleChildren, repeat=4))\n",
        "assert sampleSpaceEfficient == sampleSpace"
      ],
      "outputs" : [
      ]
    },
    {
      "cell_type" : "code",
      "execution_count" : 24,
      "metadata" : {
        "cell.metadata.exec_info" : {
          "startTs" : 1572188429522,
          "endTs" : 1572188429617
        },
        "language" : "python"
      },
      "language" : "python",
      "source" : [
        "# Computing the probability of 2 boys:\n",
        "def hasTwoBoys(outcome): return len([child for child in outcome if child == 'Boy']) == 2\n",
        "\n",
        "prob = computeEventProbability(hasTwoBoys, sampleSpace)\n",
        "print(f'Probability of 2 boys is {prob}')"
      ],
      "outputs" : [
        {
          "name" : "stdout",
          "text" : [
            "Probability of 2 boys is 0.375\n"
          ],
          "output_type" : "stream"
        }
      ]
    },
    {
      "cell_type" : "markdown",
      "execution_count" : 25,
      "metadata" : {
        "language" : "text"
      },
      "language" : "text",
      "source" : [
        "The actual observed percentage of families with 2 boys will vary due to random chance"
      ],
      "outputs" : [
      ]
    }
  ]
}